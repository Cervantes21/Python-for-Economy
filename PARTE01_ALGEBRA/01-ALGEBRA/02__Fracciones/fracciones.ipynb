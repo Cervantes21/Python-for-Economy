{
 "cells": [
  {
   "attachments": {},
   "cell_type": "markdown",
   "metadata": {},
   "source": [
    "# **Fracciones**\n",
    "\n",
    "En la sección [Numeros reales](./01__Numeros_reales/Numeros-Reales.ipynb)\n",
    "vimos que la fracción a/b está definida como el producto de *a* y el inverso de *b*\n",
    "```\n",
    "a/b = ab⁻¹ (b!=0)\n",
    "```\n",
    "En particular:\n",
    "```\n",
    "1/b = b⁻¹\n",
    "```\n",
    "Con base en la definición anterior es posible deducir todas las propiedades que se usan al manejar fracciones. en esta sección nos detendremos un poco a examinar este tipo de operaciones. que son las demostraciones de las propiedades que aparecen en el código.\n"
   ]
  },
  {
   "attachments": {},
   "cell_type": "markdown",
   "metadata": {},
   "source": [
    "## Multiplicación de fracciones:\n",
    "\n",
    "El producto de dos fracciones se obtiene multiplicacion en primer término los dos numeradores y luego los dos denominadores.\n",
    "```\n",
    "(a/b)(c/d) = ac/bd\n",
    "```\n",
    "- Ejemplos\n",
    "    - a) (2/3) * (5/9) = (2 * 5) / (3 * 9) = 10/27\n",
    "    - b) (2x/3) * (4/y) = ((2x)4)/(3 * y) = 8x/3y\n",
    "    - c) 3x(4/5y) = (3x/1)(4/5y) = ((3x) * 4) / 1 * (5y) = 12x/5y\n",
    "\n",
    "También las fracciones en el código se pueden visualizar como decimales, puesto que podemos hacer operaciones mucho más rápidas y precisas."
   ]
  },
  {
   "cell_type": "code",
   "execution_count": 4,
   "metadata": {},
   "outputs": [
    {
     "name": "stdout",
     "output_type": "stream",
     "text": [
      "Nuestro valor de a: 0.37037037037037035 es igual a dividir 10 entre 27, El resultado es: 0.37037037037037035\n"
     ]
    }
   ],
   "source": [
    "a = ((2/3)*(5/9))\n",
    "# Lo que sería lo mismo a dividir 10/27\n",
    "a2 = 10/27\n",
    "print(f'Nuestro valor de a: {a} es igual a dividir 10 entre 27, El resultado es: {a2}')"
   ]
  },
  {
   "attachments": {},
   "cell_type": "markdown",
   "metadata": {},
   "source": [
    "## Division de Fracciones\n",
    "\n",
    "Con el propósito de dividir una fracción entre otra, la segunda fracción se invierte y después se multiplica por la primera. En otras palabras el recíproco, o residuo (resultado) de cualquier fracción se obtiene intercambiando el numerador y el denominador de la fracción.\n",
    "```\n",
    "(a/b) / (c/d) = (a/b)*(d/c) = ad/bc\n",
    "```\n",
    "\n",
    "- Ejemplos:\n",
    "    - a) (3/5) / (7/9) = (3/5)*(9/7) = 27/35\n",
    "\n",
    "Pero de cualquier modo, en código lo tenemos más fácil, sólo hace falta hacer la operación primero de los parentesis, entre la segunda fracción\n"
   ]
  },
  {
   "cell_type": "code",
   "execution_count": 5,
   "metadata": {},
   "outputs": [
    {
     "name": "stdout",
     "output_type": "stream",
     "text": [
      "Vemos que nuestro primer resultado es: 0.7714285714285714 y coincide con el segundo resultado 0.7714285714285715\n"
     ]
    }
   ],
   "source": [
    "# Ejemplo en código:\n",
    "\n",
    "a = ((3/5)/(7/9))\n",
    "a2 = 27/35\n",
    "\n",
    "print(f'Vemos que nuestro primer resultado es: {a} y coincide con el segundo resultado {a2}')"
   ]
  },
  {
   "attachments": {},
   "cell_type": "markdown",
   "metadata": {},
   "source": [
    "## Cancelación de factores comunes:\n",
    "\n",
    "El numerador y el denominador de cualquier fracción pueden multiplicarse o dividirse por un número real cualquiera distinto de cero, sin alterar el valor de la fracción.\n",
    "\n",
    "```\n",
    "a/b = ac/bc  (c!=0)\n",
    "```\n",
    "- Ejemplo:\n",
    "    - a/b = 2a/2b\n",
    "    - 3/5 = 6/10 = 9/15 = -12/-20 = ...\n",
    "    - 5x/6 = 10x²/12x (Con tal que x != 0 )\n",
    "\n",
    "Esta propiedad de las fracciones puede usarse con la finalidad de reducir una fracción a su mínima expresión, lo que significa dividir el numerador y el denominador entre todos los factores comunes. (Esto se llama también **simplificación de la fracción**)\n",
    "\n",
    "Otro ejemplo:\n",
    "- a) 70/84 = (2 * 5 * 7) / (2 * 2 * 3 * 7) = 5/(2*3) = 5/6\n",
    "\n",
    "Observemos que tanto el numerador como el denominador se escriben primero en términos dde sus factores primos y, luego, el numerador y el denominador se dividen entre aquellos factores que son comunes a ambos números, como el 2 y el 7. (Este proceso algunas veces se le llama **Cancelación**)"
   ]
  },
  {
   "cell_type": "code",
   "execution_count": 6,
   "metadata": {},
   "outputs": [
    {
     "name": "stdout",
     "output_type": "stream",
     "text": [
      "Igual, tanto el resultado de 70 entre 84 es 0.8333333333333334 y si hicieramos la simplificacion y llegaramos a 5 entre 6 sería 0.8333333333333334\n"
     ]
    }
   ],
   "source": [
    "# De igual forma la tenemos fácil en código:\n",
    "\n",
    "a = 70/84\n",
    "a2 = 5/6\n",
    "\n",
    "print(f'Igual, tanto el resultado de 70 entre 84 es {a} y si hicieramos la simplificacion y llegaramos a 5 entre 6 sería {a2}')"
   ]
  },
  {
   "attachments": {},
   "cell_type": "markdown",
   "metadata": {},
   "source": [
    "### Importante\n",
    "Aquí quiero hacer un parentesis de cierta forma importante, en dónde las fracciones son importantes para poder expresar números decimales, en la programación al no tener que hacer los calculos de manera manual, podemos trabajar con el residuo de nuestras fracciones y así mismo guardarlo en variables para su uso.\n",
    "\n",
    "En el caso practico de la vida cotidiana, es por la necesidad de poder representar número fraccionarios de manera más simplificada para su manipulación.\n",
    "\n",
    "Algo así como pi, el número aureo, euler, etc... "
   ]
  },
  {
   "attachments": {},
   "cell_type": "markdown",
   "metadata": {},
   "source": [
    "## Adición y Sustracción de fracciones (Suma y resta)\n",
    "\n",
    "Cuando dos fracciones tienen un común denominador, pueden sumarse simplemente sumando sus numeradores.\n",
    "\n",
    "```\n",
    "a/c + b/c = a+b/c\n",
    "```\n",
    "Una regla similar se aplica a la sustracción:\n",
    "```\n",
    "a/c - b/c = a-b/c\n",
    "```\n",
    "- Ejemplos:\n",
    "    - a) 5/12 + 11/12 = 5+11/12 = 16/12 = 4/3\n",
    "    - b) 3/2x - 5/2x = 3-5/2x = -2/2x = - 1/X\n",
    "\n",
    "(Nota las cancelaciones de factores comunes al llegar a las respuestas finales)\n",
    "\n",
    "---\n",
    "\n",
    "Cuando dos fracciones con denominadores distintos deben sumarse o restarse, las fracciones deben en primer lugar reescribirse con el mismo denominador.\n",
    "\n",
    "Ejemplo:\n",
    "\n",
    "a) 5/6 + 1/2\n",
    "\n",
    "b) 5/6 - 3/4\n",
    "\n",
    "**Solución al ejemplo:**\n",
    "\n",
    "a) Podemos escribir 1/2 = (1 * 3) / (2 * 3) = 3/6. Entonces ambas fracciones tienen el mismo denominador, de modo que podemos sumarlas.\n",
    "- 5/6 + 1/2 = 5/6 + 3/6 = 5+3/6 = 8/6 = 4/3\n",
    "\n",
    "b) En la parte a), multiplicamos el numerador y el denominador de 1/2 por 3 para obtener un denominador igual al de la otra fracción. En esta parte, ambas fracciones deben modificarse para que tengan un factor común. Escribimos:\n",
    "- 5/6 = 10/12 \n",
    "- 3/4 = 9/12\n",
    "por lo tanto quedaría así,\n",
    "\n",
    "- 5/6 - 3/4 = 10/12 - 9/12 = 10-9/12 = 1/12\n",
    "\n",
    "En general, cuando sumamos o restamos fracciones con denominadores diferentes, primero reemplazamos cada fracción por una equivalente que tenga un denominador común. Con el propópsito de mantener los números tan pequeños como nos sea posible, elegimos el más pequeño de tales denominadores comunes, denominado el **mínimo común denominador** (*m.c.d*). Aún obtendríamos la respuesta correcta utilizando un denominador común más grande, pero es preferible usar el mínimo denominador posible. Por ejemplo, en la parte b) del ejemplo anterior, pudimos emplear 24. Osea multiplicando por 4 nuestro primer miembro y multiplicar por 6 nuestro segundo miembro, como un denominador común:\n",
    "\n",
    "- 5/6 - 3/4 = 20/24 - 18/24 = 20-18/24 = 2/24 = 1/12\n",
    "\n",
    "Al final, la respuesta es la misma, pero habríamos tenido que trabajar con números más grandes.\n",
    "\n",
    "Para calcular el m.c.d. De dos o más fracciones, los denominadores deben escribirse en términos de sus factores primos. El *m.c.d*. Se forma entonces tomando todos los factores primos que aparezcan en cualquiera de los denominadores debe incluirse tantas veces como ocurra en cualquiera de los denominadores, por ejemplo, el *m.c.d* de 5/6 y 3/4, se encuentra escribiendo los denominadores en la forma **6 = 2 * 3** y **4 = 2 * 2**. Los factores primos que ocurren son 2 y 3, pero 2 aparece dos veces en un denominador. De modo que el *m.c.d* es **2 * 2 * 3 = 12**\n"
   ]
  },
  {
   "cell_type": "code",
   "execution_count": 7,
   "metadata": {},
   "outputs": [
    {
     "name": "stdout",
     "output_type": "stream",
     "text": [
      "Nuestro valor de adición es 1.3333333333333335, y si lo simplificaramos el resultado también es 1.3333333333333333\n",
      "Nuestro valor de sustracción es 0.08333333333333337, y si lo simplificaramos el resultado también es 0.08333333333333333\n"
     ]
    }
   ],
   "source": [
    "# Menos mal, que en código la tenemos un poco más fácil:\n",
    "\n",
    "adicion_frac = (5/6) + (1/2)\n",
    "simplificacion1 = 4/3\n",
    "sustraccion = (5/6) - (3/4)\n",
    "simplificacion2 = 1/12\n",
    "print(f'Nuestro valor de adición es {adicion_frac}, y si lo simplificaramos el resultado también es {simplificacion1}')\n",
    "print(f'Nuestro valor de sustracción es {sustraccion}, y si lo simplificaramos el resultado también es {simplificacion2}')"
   ]
  }
 ],
 "metadata": {
  "kernelspec": {
   "display_name": "base",
   "language": "python",
   "name": "python3"
  },
  "language_info": {
   "codemirror_mode": {
    "name": "ipython",
    "version": 3
   },
   "file_extension": ".py",
   "mimetype": "text/x-python",
   "name": "python",
   "nbconvert_exporter": "python",
   "pygments_lexer": "ipython3",
   "version": "3.9.13"
  },
  "orig_nbformat": 4
 },
 "nbformat": 4,
 "nbformat_minor": 2
}
