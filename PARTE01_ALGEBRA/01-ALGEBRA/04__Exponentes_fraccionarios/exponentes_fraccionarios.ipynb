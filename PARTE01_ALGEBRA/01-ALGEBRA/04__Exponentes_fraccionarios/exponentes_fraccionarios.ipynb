{
 "cells": [
  {
   "attachments": {},
   "cell_type": "markdown",
   "metadata": {},
   "source": [
    "# **Exponentes Fraccionarios**\n",
    "\n",
    "Conociendo los [Exponentes](./03__Exponentes/Exponentes.ipynb) definimos que *a^m* cuando *m* es cualquier entero, ahora extenderemos la definición al caso en que *m* es un número racional arbitrario. En primer término, consideraremos la definición de *a*¹/⁴ cuando *n* es un entero disitinto de cero.\n",
    "\n",
    "```\n",
    "(a¹/n)^n = a⁽¹/n⁾^n = a¹ = a\n",
    "```\n",
    "De este modo, si hacemos *b* = a¹/n, es necesario que b^n = a\n",
    "\n",
    "- Ejemplo:\n",
    "    - a) 8¹/³ = 2 ya que 2³ = 8\n",
    "    - b) (-243)¹/⁵ = -3 ya que (-3)⁵ = -243"
   ]
  },
  {
   "cell_type": "code",
   "execution_count": 2,
   "metadata": {},
   "outputs": [
    {
     "name": "stdout",
     "output_type": "stream",
     "text": [
      " Nuestro resultado es: 2.0\n"
     ]
    }
   ],
   "source": [
    "# Comprobamos a)\n",
    "\n",
    "a = 8**(1/3)\n",
    "print(f' Nuestro resultado es: {a}')"
   ]
  },
  {
   "cell_type": "code",
   "execution_count": 4,
   "metadata": {},
   "outputs": [
    {
     "name": "stdout",
     "output_type": "stream",
     "text": [
      " Nuestro resultado es: -3.0\n"
     ]
    }
   ],
   "source": [
    "# Comprobamos b)\n",
    "b = -243**(1/5)\n",
    "print(f' Nuestro resultado es: {b}')"
   ]
  },
  {
   "attachments": {},
   "cell_type": "markdown",
   "metadata": {},
   "source": [
    "En el caso de que *n* sea un **entero par**, surgen dos dificultades con esta definición de a¹/n.\n",
    "Por ejemplo, sea **n = 2 y a = 4**. Entonces, ***b = 4^½ si b² = 4***. Pero hay dos números cuyo cuadrado es igual a **4**, es decir, **b = 2** y **b = -2**. De modo que necesitamos decidir qué entenderemos cuando escribamos ***b = 4^½***. En realidad, definiremos **4^½ como +2**.\n",
    "\n",
    "En segundo lugar, supongamos que *a* es ***negativo***. Por ejemplo, **4² = 16 y (-3)² = 9**, y ambos son *positivos*. En consecuencia **b²** nunca es negativo para cualquier número real ***b***, de modo que cuando ***a<0***, ***a^½*** no existe en los números reales. Así, **(-1)^½** o **(-4/3)^½** carecen de sentido como números reales. Adoptaremos la siguiente definición.\n",
    "\n",
    "---\n",
    "\n",
    "**Definición**\n",
    "\n",
    "Si ***n*** es un entero positivo par (tal como 2,4, o 6) y si ***a*** es un número real ***no negativo***, entonces se dice que *b* es la ***n-ésima raíz principal de a*** si b^n = a y b >= 0. Así, la ***n-ésima raíz de a*** es el número *no negativo* el cual, al elevarse a la n-ésima potencia, da el número a. Denotamos la n-ésima raíz principal por b = a¹/n. Es decir,\n",
    "\n",
    "```\n",
    "b = a¹/n si b^n = a; b >= 0 si n es par.\n",
    "```\n",
    "Las raíces impares están definidas para todos los números reales a, pero las raíces pares sólo están definidas cuando a no es negativo.\n",
    "\n",
    "- Ejemplo:\n",
    "    - a) 32¹/⁵ = 2 ***porque 2⁵ = 32***\n",
    "    - b) (-216)¹/³ = -6 **ya que (-6)³ = -216**\n",
    "    - c) 16¹/⁴ = **2 porque 2⁴ = 16 y 2 > 0.**\n",
    "    "
   ]
  }
 ],
 "metadata": {
  "kernelspec": {
   "display_name": "base",
   "language": "python",
   "name": "python3"
  },
  "language_info": {
   "codemirror_mode": {
    "name": "ipython",
    "version": 3
   },
   "file_extension": ".py",
   "mimetype": "text/x-python",
   "name": "python",
   "nbconvert_exporter": "python",
   "pygments_lexer": "ipython3",
   "version": "3.9.13"
  },
  "orig_nbformat": 4
 },
 "nbformat": 4,
 "nbformat_minor": 2
}
