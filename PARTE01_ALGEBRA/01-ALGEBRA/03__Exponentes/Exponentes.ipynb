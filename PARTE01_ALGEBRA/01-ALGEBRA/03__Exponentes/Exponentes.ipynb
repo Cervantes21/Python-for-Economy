{
 "cells": [
  {
   "attachments": {},
   "cell_type": "markdown",
   "metadata": {},
   "source": [
    "# **Exponentes**\n",
    "\n",
    "Si *m* es un entero *positivo*, entonces *a^m* (Léase *a* a la potencia m, o la m-ésima potencia de *a*)\n",
    "se define como el producto de *m* factores *a* multiplicados a la vez. Por lo qué:\n",
    "\n",
    "- a^m = a * a * a * ..... a\n",
    "\n",
    "en este producto, el factor *a* aparece *m* veces.\n",
    "\n",
    "- Por ejemplo:\n",
    "    - 2⁴ = 2 * 2 * 2 * 2 = 16 (cuatro factores de 2)\n",
    "    - 3⁵ = 3 * 3 * 3 * 3 * 3 = 243 (cinco factores de 3)\n",
    "\n",
    "En la expresión *a^m*, *m* se llama la **potencia** o **exponente** y *a* a la **base**. Así en 2⁴ (Es dos a la cuarta potencia, o la cuarta potencia de 2), 2 es la base y 4 es la potencia o exponente; en 3⁵, 3 es la **base** y 5 el **exponente**. Esta definicioón de a^m cuando el expontente es un entero positivo es válida para todos los valores reales de a.\n",
    "\n",
    "También, en la programación a al exponente, o potencia, lo representamos con ** (dos asteriscos) seguido del numero exponente. \n",
    "\n",
    "Ejemplos:\n",
    "\n",
    "```python\n",
    "area_cuadrada = 258**2\n",
    "# Recordemos que el área total se multiplica por si misma. lo que sería al exponente 2\n",
    "```\n",
    "\n",
    "```python\n",
    "gugol = 10**100\n",
    "# Un gúgol es un 1 seguido de 100 ceros.\n",
    "```\n",
    "\n",
    "---\n",
    "\n",
    "En general, utilizamos demasiado las potencias, tanto como las fracciones, para representar número demasiado grandes, o demasiado pequeños y, poder manipularlos de una manera más sencilla. \n",
    "También esto esta vínculado a la notación científica. \n",
    "\n",
    "\n"
   ]
  },
  {
   "cell_type": "code",
   "execution_count": 6,
   "metadata": {},
   "outputs": [
    {
     "name": "stdout",
     "output_type": "stream",
     "text": [
      "Vemos que nuestro resultado de nuestro ejemplo es 8\n",
      "Sería lo mismo, resolver el parentesis y posterior elevar en este caso 2³ o 2x2x2 que sería: 8\n"
     ]
    }
   ],
   "source": [
    "# Sumas de exponentes en código\n",
    "\n",
    "ejemplo = 2**(1+2)\n",
    "ejemplo\n",
    "print(f'Vemos que nuestro resultado de nuestro ejemplo es {ejemplo}')\n",
    "print('Sería lo mismo, resolver el parentesis y posterior elevar en este caso 2³ o 2x2x2 que sería:', 2*2*2)"
   ]
  },
  {
   "cell_type": "code",
   "execution_count": 11,
   "metadata": {},
   "outputs": [
    {
     "name": "stdout",
     "output_type": "stream",
     "text": [
      "Nuestro resultado es 9.0\n"
     ]
    }
   ],
   "source": [
    "# Así podríamos evaluar ejemplos más complejos. Pero sencillos.\n",
    "\n",
    "# Ecuación ejemplo: dónde multiplicamos a por b entre c y el producto lo multiplicamos nuevamente por c\n",
    "a = 3**(3-1)\n",
    "b = 248**(-3+3) # cualquier exponente que sea == 0 será 1. \n",
    "c = 9/0.25\n",
    "resultado = ((a*b)/c)*c\n",
    "print(f'Nuestro resultado es {resultado}')"
   ]
  }
 ],
 "metadata": {
  "kernelspec": {
   "display_name": "base",
   "language": "python",
   "name": "python3"
  },
  "language_info": {
   "codemirror_mode": {
    "name": "ipython",
    "version": 3
   },
   "file_extension": ".py",
   "mimetype": "text/x-python",
   "name": "python",
   "nbconvert_exporter": "python",
   "pygments_lexer": "ipython3",
   "version": "3.9.13"
  },
  "orig_nbformat": 4
 },
 "nbformat": 4,
 "nbformat_minor": 2
}
