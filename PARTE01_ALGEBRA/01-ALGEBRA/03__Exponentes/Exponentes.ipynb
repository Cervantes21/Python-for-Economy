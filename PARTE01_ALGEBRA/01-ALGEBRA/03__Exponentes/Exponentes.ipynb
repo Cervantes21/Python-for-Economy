{
 "cells": [
  {
   "attachments": {},
   "cell_type": "markdown",
   "metadata": {},
   "source": [
    "# **Exponentes**\n",
    "\n",
    "Si *m* es un entero *positivo*, entonces *a^m* (Léase *a* a la potencia m, o la m-ésima potencia de *a*)\n",
    "se define como el producto de *m* factores *a* multiplicados a la vez. Por lo qué:\n",
    "\n",
    "- a^m = a * a * a * ..... a\n",
    "\n",
    "en este producto, el factor *a* aparece *m* veces.\n",
    "\n",
    "- Por ejemplo:\n",
    "    - 2⁴ = 2 * 2 * 2 * 2 = 16 (cuatro factores de 2)\n",
    "    - 3⁵ = 3 * 3 * 3 * 3 * 3 = 243 (cinco factores de 3)\n",
    "\n",
    "En la expresión *a^m*, *m* se llama la **potencia** o **exponente** y *a* a la **base**. Así en 2⁴ (Es dos a la cuarta potencia, o la cuarta potencia de 2), 2 es la base y 4 es la potencia o exponente; en 3⁵, 3 es la **base** y 5 el **exponente**. Esta definicioón de a^m cuando el expontente es un entero positivo es válida para todos los valores reales de a.\n",
    "\n",
    "También, en la programación a al exponente, o potencia, lo representamos con ** (dos asteriscos) seguido del numero exponente. \n",
    "\n",
    "Ejemplos:\n",
    "\n",
    "```python\n",
    "area_cuadrada = 258**2\n",
    "# Recordemos que el área total se multiplica por si misma. lo que sería al exponente 2\n",
    "```\n",
    "\n",
    "```python\n",
    "gugol = 10**100\n",
    "# Un gúgol es un 1 seguido de 100 ceros.\n",
    "```\n",
    "\n",
    "---\n",
    "\n",
    "En general, utilizamos demasiado las potencias, tanto como las fracciones, para representar número demasiado grandes, o demasiado pequeños y, poder manipularlos de una manera más sencilla. \n",
    "También esto esta vínculado a la notación científica. \n",
    "\n",
    "\n"
   ]
  },
  {
   "cell_type": "code",
   "execution_count": 6,
   "metadata": {},
   "outputs": [
    {
     "name": "stdout",
     "output_type": "stream",
     "text": [
      "Vemos que nuestro resultado de nuestro ejemplo es 8\n",
      "Sería lo mismo, resolver el parentesis y posterior elevar en este caso 2³ o 2x2x2 que sería: 8\n"
     ]
    }
   ],
   "source": [
    "# Sumas de exponentes en código\n",
    "\n",
    "ejemplo = 2**(1+2)\n",
    "ejemplo\n",
    "print(f'Vemos que nuestro resultado de nuestro ejemplo es {ejemplo}')\n",
    "print('Sería lo mismo, resolver el parentesis y posterior elevar en este caso 2³ o 2x2x2 que sería:', 2*2*2)"
   ]
  },
  {
   "attachments": {},
   "cell_type": "markdown",
   "metadata": {},
   "source": [
    "También podemos observar en esta tabla unos ejemplos de exponentes con base 5.\n",
    "\n",
    "Dicho de otra manera, las potencias de 5\n",
    "\n",
    "| Potencia | Producto |\n",
    "|-- | -- |\n",
    "| 5⁴ | 625 |\n",
    "| 5³ | 125 |\n",
    "| 5² | 25 |\n",
    "| 5¹ | 5 |\n",
    "| 5⁰ | 1 |\n",
    "| 5⁻¹ | 0.20 |\n",
    "| 5⁻² | 0.04 |\n",
    "| 5⁻³ | 0.008 |\n",
    "| 5⁻⁴ | 0.0016 |\n",
    "\n",
    "---\n",
    "\n",
    "Esté patrón en forma natural nos conduce a la definicón siguiente de *a^m* en el caso de que el exponente *m* sea cero o un número negativo.\n",
    "\n",
    "**Definición:**\n",
    "Si *a* != 0, entonces a⁰ = 1, y si *m* es cualquier número entero *positivo*. (De modo que -*m* es un entero *negativo*)\n",
    "\n",
    "```\n",
    "a⁻m = 1/a^m\n",
    "```\n",
    "- Ejemplo:\n",
    "    - 4⁰ = 1, (3/7)⁰ = 1, (-5)⁰ = 1, etc."
   ]
  },
  {
   "cell_type": "code",
   "execution_count": 11,
   "metadata": {},
   "outputs": [
    {
     "name": "stdout",
     "output_type": "stream",
     "text": [
      "Nuestro resultado es 9.0\n"
     ]
    }
   ],
   "source": [
    "# Así podríamos evaluar ejemplos más complejos. Pero sencillos.\n",
    "\n",
    "# Ecuación ejemplo: dónde multiplicamos a por b entre c y el producto lo multiplicamos nuevamente por c\n",
    "a = 3**(3-1)\n",
    "b = 248**(-3+3) # cualquier exponente que sea == 0 será 1. \n",
    "c = 9/0.25\n",
    "resultado = ((a*b)/c)*c\n",
    "print(f'Nuestro resultado es {resultado}')"
   ]
  },
  {
   "attachments": {},
   "cell_type": "markdown",
   "metadata": {},
   "source": [
    "# Leyes de los exponentes:\n"
   ]
  },
  {
   "attachments": {},
   "cell_type": "markdown",
   "metadata": {},
   "source": [
    "## **Propiedad 1**\n",
    "\n",
    "```\n",
    "a^m * a^n = a^m+^n\n",
    "```\n",
    "\n",
    "Esto es, cuando dos potencias de una base común se multiplican, el resultado es igual a la base elevada a la suma de los dos exponentes. Este resultado vale para cualquier número real ***a***, excepto en el caso de que ***m*** o ***n*** sea *negativo*, requerimos que ***a != 0*** "
   ]
  },
  {
   "cell_type": "code",
   "execution_count": 1,
   "metadata": {},
   "outputs": [
    {
     "name": "stdout",
     "output_type": "stream",
     "text": [
      "Nuestro resultado es: 3125, mismo resultado que 5⁵ qué es: 3125\n"
     ]
    }
   ],
   "source": [
    "# Un ejemplo sería\n",
    "\n",
    "a = 5**2 * 5**3\n",
    "# Que esto es igual a 5²⁺³ = 5⁵\n",
    "print(f'Nuestro resultado es: {a}, mismo resultado que 5⁵ qué es:', 5**5)"
   ]
  },
  {
   "cell_type": "code",
   "execution_count": 5,
   "metadata": {},
   "outputs": [
    {
     "name": "stdout",
     "output_type": "stream",
     "text": [
      "Vemos que es el mismo resultado para a1: 3125, a2: 3125, y a3: 3125 \n"
     ]
    }
   ],
   "source": [
    "# sí aún entra duda podemos verificar haciendo las operaciones \"manualmente\"\n",
    "\n",
    "a1 = 5**2 * 5**3 # Exponentes\n",
    "a2 = (5*5) * (5*5*5) # 5²⁺³\n",
    "a3 = 5*5*5*5*5 # Lo que sería lo mismo a 5⁵\n",
    "\n",
    "print(f'Vemos que es el mismo resultado para a1: {a1}, a2: {a2}, y a3: {a3} ')"
   ]
  },
  {
   "attachments": {},
   "cell_type": "markdown",
   "metadata": {},
   "source": [
    "## **Propiedad 2**\n",
    "\n",
    "```\n",
    "a^m/a^n = a^m⁻^n (a!=0)\n",
    "```\n",
    "\n",
    "Esto es, cuando una potencia se divide entre otra con la misma base, el resultado es igual a la base elevada a un exponente que es la diferencia del exponente que está en el numerador y el exponente del denominador.\n",
    "\n",
    "- Ejemplo:\n",
    "    - 5⁷/5³ = 5⁷⁻³ = 5⁴\n"
   ]
  },
  {
   "cell_type": "code",
   "execution_count": 6,
   "metadata": {},
   "outputs": [
    {
     "name": "stdout",
     "output_type": "stream",
     "text": [
      "Como en los demás ejemplos vemos la comprobación de a1: 625.0 y a2: 625\n"
     ]
    }
   ],
   "source": [
    "# De cualquier manera no te preocupes. En código es mucho más sencillo\n",
    "\n",
    "a1 = 5**7/5**3\n",
    "a2 = 5**4\n",
    "print(f'Como en los demás ejemplos vemos la comprobación de a1: {a1} y a2: {a2}')"
   ]
  },
  {
   "attachments": {},
   "cell_type": "markdown",
   "metadata": {},
   "source": [
    "## **Propiedad 3**\n",
    "\n",
    "```\n",
    "(a^m)^n = a^mn (a != 0 si m o n es negativo o cero)\n",
    "```\n",
    "Es decir, una potencia elevada a una potencia es igual a la base elevada al producto de los dos exponentes.\n",
    "\n",
    "- Ejemplo:\n",
    "    - a) (3³)² = 3³*² = 3⁶\n",
    "\n",
    "Podemos comprobar que esto es correcto dado que:\n",
    "\n",
    "- (3³)² = 3³ · 3³ = 3³⁺³ = 3⁶"
   ]
  },
  {
   "cell_type": "code",
   "execution_count": 7,
   "metadata": {},
   "outputs": [
    {
     "name": "stdout",
     "output_type": "stream",
     "text": [
      "Resultado a:729 comprobación: 729\n"
     ]
    }
   ],
   "source": [
    "# En código (3³)²\n",
    "\n",
    "a = (3**3)**2\n",
    "a2 = 3**6\n",
    "\n",
    "print(f'Resultado a:{a} comprobación: {a2}')"
   ]
  },
  {
   "attachments": {},
   "cell_type": "markdown",
   "metadata": {},
   "source": [
    "En una expresión, tal como 3*c*⁵, la base es *c*, no 3*c*. Si necesitamos que la base sea 3c, debemos encerrarla entre paréntesis y escribir (3c)⁵. \n",
    "\n",
    "Por ejemplo 3 × 2³ = 3 · 8 = 24, no es lo mismo que (3·2)³ = 6³ = 216\n",
    "\n",
    "Para el caso de que la vase es un producto, tenemos la propiedad siguiente:"
   ]
  },
  {
   "attachments": {},
   "cell_type": "markdown",
   "metadata": {},
   "source": [
    "## **Propiedad 4**\n",
    "\n",
    "```\n",
    "(ab)^m = a^m·b^m (ab != 0 si m <= 0)\n",
    "```\n",
    "Esto es, el producto de dos números elevados a la m-ésima potencia es igual al producto de las m-ésimas potencias de los dos números.\n",
    "\n",
    "- Ejemplo:\n",
    "    - a) 6⁴ = (2·3)⁴ = 2⁴ × 3⁴\n",
    "    "
   ]
  },
  {
   "cell_type": "code",
   "execution_count": 8,
   "metadata": {},
   "outputs": [
    {
     "name": "stdout",
     "output_type": "stream",
     "text": [
      "Vemos que nuestros resultados son iguales: a1: 1296, a2: 1296, a3: 1296\n"
     ]
    }
   ],
   "source": [
    "# Comprobamos con código:\n",
    "\n",
    "a1 = 6**4\n",
    "a2 = (2*3)**4\n",
    "a3 = (2**4)*(3**4)\n",
    "\n",
    "print(f'Vemos que nuestros resultados son iguales: a1: {a1}, a2: {a2}, a3: {a3}')"
   ]
  },
  {
   "attachments": {},
   "cell_type": "markdown",
   "metadata": {},
   "source": [
    "## **Propiedad 5**\n",
    "\n",
    "```\n",
    "(a÷b)^m = a^m ÷ b^m (b != 0 y a != 0 si n <= 0)\n",
    "```\n",
    "Es decir, el cociente de dos números elevados a la *m*-ésima potencia es igual al cociente de las *m*-ésimas potencias de tales números.\n",
    "\n",
    "- Ejemplo:\n",
    "    - a) (3/2)⁴ = 3⁴÷2⁴"
   ]
  },
  {
   "cell_type": "code",
   "execution_count": 10,
   "metadata": {},
   "outputs": [
    {
     "name": "stdout",
     "output_type": "stream",
     "text": [
      "Resultados de a: 5.0625 y la comprobación es: 5.0625\n"
     ]
    }
   ],
   "source": [
    "# También en código esto resulta muy fácil:\n",
    "\n",
    "a = (3/2)**4\n",
    "a2 = (3**4)/(2**4)\n",
    "print(f'Resultados de a: {a} y la comprobación es: {a2}')"
   ]
  }
 ],
 "metadata": {
  "kernelspec": {
   "display_name": "base",
   "language": "python",
   "name": "python3"
  },
  "language_info": {
   "codemirror_mode": {
    "name": "ipython",
    "version": 3
   },
   "file_extension": ".py",
   "mimetype": "text/x-python",
   "name": "python",
   "nbconvert_exporter": "python",
   "pygments_lexer": "ipython3",
   "version": "3.9.13"
  },
  "orig_nbformat": 4
 },
 "nbformat": 4,
 "nbformat_minor": 2
}
