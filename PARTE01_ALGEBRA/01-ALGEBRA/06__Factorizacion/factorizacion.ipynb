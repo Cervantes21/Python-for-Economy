{
 "cells": [
  {
   "attachments": {},
   "cell_type": "markdown",
   "metadata": {},
   "source": [
    "# **Factorización**\n",
    "\n",
    "si el producto de dos enteros ***a*** y ***b*** es ***c***, es decir:\n",
    "**c = a * b**, entonces *a* y *b* se llaman **factores** de *c*. en otras palabras, un entero *a*\n",
    "es un factor de otro entero *c* si *a* divide exactamente a *c*. Por ejemplo, 2 y 3 son factores de 6; 2, 3, 4 y 6 son factores de 12; etc.\n",
    "\n",
    "Esta terminología también se emplea para expresiones algebraicas. Si dos (o más) expresiones algebraicas se multiplican a la vez, estas expresiones se dice que son *factores* de la expresión que se obtuvo como producto. \n",
    "\n",
    "Por ejemplo, la expresión *2xy* se obtuvo multiplicando 2, *x* y *y*, de modo que 2, *x* y *y* son factores de *2xy*. Más aún, por ejemplo, 2*y* es un factor de *2xy* ya que *2xy* puede obtenerse multiplicando *2y* por *x*.\n",
    "\n",
    "De manaera similar, *x* es un factor de la expresión *2x² + 3x = x(2x + 3)* y *x²* es un factor de *6x² + 9x³* ya que podemos escribir ***6x² + 9x³ = x²(6 + 9x)***\n",
    "\n",
    "El proceso de escribir una expresión dada como el producto de sus factores se llama **factorización** de la expresión. En esta sección, examinaremos ciertos métodos mediante los cuales podemos factorizar expresiones algebraicas.\n",
    "\n",
    "La primera etapa en la factorización de una expresión algebraica es extraer todos los monomios que sean comunes a todos los términos. El ejemplo siguiente ilustra esto."
   ]
  },
  {
   "attachments": {},
   "cell_type": "markdown",
   "metadata": {},
   "source": [
    "## **Ejemplo 1:**\n",
    "Factorice todos los monomios comunes de las expresiones siguientes\n",
    "\n",
    "- a) **x² + 2xy²**\n",
    "- b) **2x²y + 6xy²**\n",
    "- c) **6ab²c³ + 6a²b²c² + 18a³bc²**"
   ]
  },
  {
   "attachments": {},
   "cell_type": "markdown",
   "metadata": {},
   "source": [
    "### **Solución**\n",
    "\n",
    "a) Escribamos cada término en la expresión dada en términos de sus factores básicos.\n",
    "\n",
    "***x² = x · x 2xy² = 2 · x · y · y***\n",
    "\n",
    "Observando las dos listas de factores básicos, advertimos que *x* es el único factor común a ambos términos. De modo que escribimos.\n",
    "\n",
    "***x² + 2xy = x · x + x · 2y² = x(x + 2y²)***\n",
    "\n",
    "Note cómo la propiedad distributiva se utiliza para extraer el factor común, *x*.\n",
    "\n",
    "b) Expresando cada término en término de sus factores básicos, tenemos:\n",
    "\n",
    "***2x²y = 2 · x · x · y*** y ***6xy² = 2 · 3 · x · y · y***\n",
    "\n",
    "Los factores 2, _x_ y _y_, aparecen en ambas listas, por lo que el factor común es __*2xy*__. Esto da:\n",
    "\n",
    "__*2x²y + 6xy² = 2xy · x + 2xy · 3y = 2xy(x + 3y)*__\n",
    "\n",
    "De nuevo, usando la propiedad distributiva.\n",
    "\n",
    "c) Primero factorizamos los términos:\n",
    "\n",
    "__*6ab²c³ = 2 · 3 · a · b · b · c · c · c*__\n",
    "\n",
    "__*6a²b²c² = 2 · 3 · a · a · b · b · c · c*__\n",
    "\n",
    "__*18a³bc³ = 2 · 3 · 3 · a · a · a · b · c · c*__\n",
    "\n",
    "El factor común de estos tres términos es __*2 · 3 · a · b · c · c = 6abc²*__\n",
    "\n",
    "Entonces:\n",
    "\n",
    "***6ab²c³ + 6a²b²c² + 18a³bc² = 6abc² · bc + 6abc² · ab + 6abc² · 3a²***\n",
    "                           ***= 6abc²(bc + ab + 3a²)***\n"
   ]
  },
  {
   "attachments": {},
   "cell_type": "markdown",
   "metadata": {},
   "source": [
    "## **Extraer factores binomiales**\n",
    "\n",
    "Ahora abordaremos el problema de extraer factores que son expresiones binomiales de expresiones algebraicas de diversos tipos. Algunas de las fórmulas establecidad en la sección 01 - 05 son útiles en la factorización, en particular la **fórmula siguiente**:\n",
    "\n",
    "```\n",
    "a² - b² = (a - b) (a + b)\n",
    "\n",
    "```\n",
    "\n",
    "Esta fórmula puede usarse para factorizar cualquier expresión que sea reducible a la *diferencia de dos cuadrados*."
   ]
  },
  {
   "attachments": {},
   "cell_type": "markdown",
   "metadata": {},
   "source": [
    "### **Ejemplo 2**\n",
    "\n",
    "Factorice completamente:\n",
    "\n",
    "a) ***x²y⁴ - 9***\n",
    "\n",
    "b) ***5x⁴ - 80y⁴***"
   ]
  },
  {
   "attachments": {},
   "cell_type": "markdown",
   "metadata": {},
   "source": [
    "#### **Solución**\n",
    "\n",
    "a) La expresión dada puede escribirse como:\n",
    "\n",
    "***(xy²)² - 3²***\n",
    "\n",
    "que es una diferencia de dos cuadradros. Usando la fórmula (1) con *a = xy²* y *b = 3*, tenemos:\n",
    "\n",
    "***x²y⁴ - 9 = (xy²)² - 3² = (xy² - 3)(xy² + 3)***\n",
    "\n",
    "Ninguna de las expresiones entre paréntesis en el lado derecho puede factorizarse aún más.\n",
    "\n",
    "b) Antes que todo, verifiquemos si podemos factorizar algún monomio de *5x⁴ - 80y⁴. En este caso, dado que el término es divisible entre 5, sacamos el factor común 5.\n",
    "\n",
    "***5x⁴ - 80y⁴ = 5(x⁴ - 16y⁴)***\n",
    "\n",
    "La expresión *x⁴ - 16y⁴* es una diferencia de cuadrados.\n",
    "\n",
    "***5x⁴ - 80y⁴ = 5[(x²)² - (4y²)²]***\n",
    "\n",
    "***= 5[(x² - 4y²)(x² + 4y²)]***\n",
    "\n",
    "***= 5[(x² - 4y²)(x² + 4y²)]***\n",
    "\n",
    "La factorización no está completa, porque *x² - 4y² = x² - (2y)²* puede factorizarse aun como *(x-2y)(x + 2y)*. En consecuencia, nos falta un paso.\n",
    "\n",
    "***5x⁴ - 80y⁴ = 5(x² - 4y²)(x² + 4y²) = 5(x - 2y)(x + 2y)(x² + 4y²)***\n"
   ]
  }
 ],
 "metadata": {
  "language_info": {
   "name": "python"
  },
  "orig_nbformat": 4
 },
 "nbformat": 4,
 "nbformat_minor": 2
}
