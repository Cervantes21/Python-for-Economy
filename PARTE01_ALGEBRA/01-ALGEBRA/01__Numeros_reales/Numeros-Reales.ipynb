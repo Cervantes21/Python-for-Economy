{
 "cells": [
  {
   "attachments": {},
   "cell_type": "markdown",
   "metadata": {},
   "source": [
    "# ¿Qué son los números reales?\n",
    "\n",
    "Empezaremos dando un breve resumen de la estrucutra de los números reales. Los números como 1,2,3,etc...\n",
    "se denominan número naturales. Si sumamos o multiplicamos dos números naturales cualquiera, el resultado siempre es un número natural.\n",
    "\n",
    "- Por ejemplo:\n",
    "    - 8 + 5 = 13\n",
    "    - 8 x 5 = 40\n",
    "\n",
    "La **Suma 13** y el **Producto 40** son números naturales. En cambio, si restamos o dividimos dos números naturales, el resultado no siempre es un número natural. \n",
    "\n",
    "- Ejemplo:\n",
    "    - **5-8 = -3**\n",
    "    - **2/7 = 0.25...**\n",
    "\n",
    "Así dentro del sistema de números naturales, siempre podemos sumar y multiplicar, pero no siempre podemos restar o dividir. \n",
    "\n",
    "Con la finalidad de superar la limitación de la **sustracción(resta)**, extendemos el sistema de los números naturales al sistema de los **Números enteros** Los enteros incluyen los números naturales, los negativos de cada número natural y el número (0). De este modo, podemos representar el sistema de los enteros mediante:\n",
    "- **..., -3, -2, -1, 0, 1, 2, 3, ...**\n",
    "\n",
    "El problema que también tenemos con los números enteros es con la división, y para superar esa limitación de la **división**, extendemos el sistema de los enteros al sitema de los **Números Racionales**. Este sistema consiste de todas las fracciones a|b, donde a y b son enteros con b != 0 (b diferente a 0).\n",
    "\n",
    "En programación los **Números racionales** son sustituidos por los números flotantes, o float. Que nos arrojan decimales. Podemos sumar, multiplicar, restar y dividir cualquier número racional(Exceptuando la división entre cero(0)) y el resultado siempre es un número racional. De esta manera las cuatro operaciones fundamentales de la aritmética:\n",
    "- Adicion.(Suma)\n",
    "- multiplicación\n",
    "- Sustracción(Resta)\n",
    "- Divisón\n",
    "\n",
    "son posibles dentro del sistema de los números racionales.\n",
    "Cuando un **Número racional** se expresa como un decimal, los decimales terminan o presentan un patrón que se repite indefinidamente. \n",
    "\n",
    "- Por ejemplo \n",
    "    - ¹/4 = 0.25\n",
    "    - 93/80 = 1.1625\n",
    "corresponden a decimales que terminan \n",
    "\n",
    "- mientras que:\n",
    "    - 1/6 = 0.1666666...\n",
    "    - 4/7 = 0.5714285714285...\n",
    "corresponden a decimales con patrones que se repiten.\n",
    "\n",
    "También existen algunos números de uso común que no son racionales (Es decir, que no pueden expresarse como la razón de dos enteros) \n",
    "\n",
    "- Ejemplos:\n",
    "    - Raíz cuadrada de 2\n",
    "    - Raíz cuadrada de 3\n",
    "    - Pi\n",
    "no son números racionales. Tales números se denominan **Número irracionales**. La diferencia esencial entre los números racionales y los irracionales se advierte en sus expresiones decimales. Cuando un número irracional se presenta por medio de decimales, los decimales, continúan indefinidamente sin presentar ningún patrón repetitivo. Por ejemplo, con diez cifras:\n",
    "\n",
    "- Ejemplo:\n",
    "    - Raíz cuadrada de 2 = 1.4142135623...\n",
    "    - pi = 3.1415926535...\n",
    "No importa con cuántos decimales expresemos estos números, nunca presentarán un patrón repetitivo, lo contrario a lo que ocurre en el caso de los **Numeros racionales**\n",
    "\n",
    "## **Los números Reales**\n",
    "\n",
    "El término **Número Real** se utiliza para indicar un número que es racional o irracional. El sistema de los números reales consta de todas las posibles expresiones decimales. Aquellos decimales que terminan o se repiten corresponden a los números racionales, mientras que los restrantes corresponden a los números irracionales.\n",
    "Geometricamente, los números reales se pueden representar por los puntos sobre una línea recta denominada **Recta númerica**. Entonces deducimos que todo número irracional también puede representarse por un punto sobre la recta numérica. En consecuencia, todos los números reales, tantos los racionales como los irracionales, pueden representarse por tales puntos, Más aún, cada punto sobre la recta numérica corresponde a uno y sólo un número real. Debido a esto, es bastante común el uso de la palabra punto con el significado de número real.\n",
    "\n"
   ]
  },
  {
   "attachments": {},
   "cell_type": "markdown",
   "metadata": {},
   "source": [
    "# Propiedades de los **Números reales**\n",
    "\n",
    "Cuando dos números reales se suman, el resultado siempre es un número real; de manera similar, cuando dos números reales se multiplican, también el resultado es un número real. Estas dos operaciones de adición y multiplicación son fundamentales en el sistema de los números reales y poseen ciertas propiedades que en breve describiré. Estas propiedades por sí mismas parecen ser más bien elementales, quizás aún obvias, pero __son vitales para entender las diversas manipulaciones algebraicas que efectuaremos después__\n",
    "\n",
    "## ¿Qué es una variable?\n",
    "\n",
    "Así como en las matemáticas, python usa variables y las variables a un groso modo son nombres de cajas, que contienen información (valores)\n",
    "\n",
    "- Ejemplo:\n",
    "\n",
    "```python\n",
    "variable = 22\n",
    "\n",
    "variable_que_contiene_una_lista = [1,2,3,4,5,6]\n",
    "```"
   ]
  },
  {
   "attachments": {},
   "cell_type": "markdown",
   "metadata": {},
   "source": [
    "## Propiedades Conmutativas:\n",
    "\n",
    "Esta propiedad establece que no importa el orden en el cual dos números son sumados, o multiplicados (Siempre obtendremos el mismo resultado)\n",
    "\n",
    "```python\n",
    "a + b = b + a\n",
    "```\n",
    "***ab = ba***"
   ]
  },
  {
   "cell_type": "code",
   "execution_count": 5,
   "metadata": {},
   "outputs": [
    {
     "name": "stdout",
     "output_type": "stream",
     "text": [
      "La adición de ab es igual a 25, y de ba es igual a 25\n"
     ]
    }
   ],
   "source": [
    "# Un ejemplo sencillo en código sería:\n",
    "a = 5\n",
    "b = 20\n",
    "adicion = a + b\n",
    "invertido = b + a\n",
    "print(f'La adición de ab es igual a {adicion}, y de ba es igual a {invertido}')"
   ]
  },
  {
   "cell_type": "code",
   "execution_count": 6,
   "metadata": {},
   "outputs": [
    {
     "name": "stdout",
     "output_type": "stream",
     "text": [
      "El producto de ab es igual a 100, y de ba es igual a 100\n"
     ]
    }
   ],
   "source": [
    "# Un ejemplo sencillo en código sería:\n",
    "a = 5\n",
    "b = 20\n",
    "producto = a * b\n",
    "invertido = b * a\n",
    "print(f'El producto de ab es igual a {producto}, y de ba es igual a {invertido}')"
   ]
  },
  {
   "attachments": {},
   "cell_type": "markdown",
   "metadata": {},
   "source": [
    "## Propiedades Asociativas\n",
    "Estás propiedades se conocen como **Propiedades asociativas de la adición y la multiplicación**, respectivamente. Establecen que si tres números se suman, o se multiplican a la vez, no importa cuáles de dos de ellos se sumen, o se multipliquen en primer término. Obtenemos la misma respuesta en ambos casos.\n",
    "\n",
    "- Ejemplo:\n",
    "    - a + b + c = a + (b + c)\n",
    "    - (ab)c = a(bc)\n"
   ]
  },
  {
   "cell_type": "code",
   "execution_count": 8,
   "metadata": {},
   "outputs": [
    {
     "name": "stdout",
     "output_type": "stream",
     "text": [
      "La adición de (ab)c es igual a 14, y la adición de a(bc) es igual a 14\n"
     ]
    }
   ],
   "source": [
    "# Un ejemplo sencillo en código sería:\n",
    "a = 5\n",
    "b = 7\n",
    "c = 2\n",
    "adicion = (a + b) + c\n",
    "invertido = (b + c) + a\n",
    "print(f'La adición de (ab)c es igual a {adicion}, y la adición de a(bc) es igual a {invertido}')"
   ]
  },
  {
   "cell_type": "code",
   "execution_count": 9,
   "metadata": {},
   "outputs": [
    {
     "name": "stdout",
     "output_type": "stream",
     "text": [
      "El producto de (ab)c es igual a 70, y de a(bc) es igual a 70\n"
     ]
    }
   ],
   "source": [
    "# Un ejemplo sencillo en código sería:\n",
    "a = 5\n",
    "b = 7\n",
    "c = 2\n",
    "producto = (a * b) * c\n",
    "invertido = (b * c) * a\n",
    "print(f'El producto de (ab)c es igual a {producto}, y de a(bc) es igual a {invertido}')"
   ]
  },
  {
   "cell_type": "code",
   "execution_count": 23,
   "metadata": {},
   "outputs": [
    {
     "name": "stdout",
     "output_type": "stream",
     "text": [
      "El producto de (a+b)*c es igual a 14, y de a+(b*c) es igual a 14\n"
     ]
    }
   ],
   "source": [
    "# Un ejemplo sencillo en código sería:\n",
    "a = 2\n",
    "b = 3\n",
    "c = 4\n",
    "producto = a + b * c\n",
    "invertido = b * c + a\n",
    "print(f'El producto de (a+b)*c es igual a {producto}, y de a+(b*c) es igual a {invertido}')"
   ]
  },
  {
   "attachments": {},
   "cell_type": "markdown",
   "metadata": {
    "tags": [
     "#propiedades_distributivas"
    ]
   },
   "source": [
    "## Propiedades Distributivas\n",
    "Las propiedades distributivas son particularmente importantes en los cálculos algebraicos. Éstas sustentan muchas operaciones incluidas en la simplificación de expresiones y, se leen \"Hacia atrás\", esto es, de derecha a izquierda, forman la base para los métodos de factorización.\n",
    "\n",
    "- Ejemplo:\n",
    "    - a(b + c) = ab + ac\n",
    "    - (b + c)a = ba + ca\n",
    "\n",
    "# Ejemplo en código:\n",
    "\n",
    "a = 2\n",
    "b = 3\n",
    "c = 7\n",
    "suma = a*(b+c)\n",
    "suma_invertida = a*b + a*c\n",
    "print(f'El resultado distrivutivo es {suma} e invertido es {suma_invertida}')"
   ]
  },
  {
   "attachments": {},
   "cell_type": "markdown",
   "metadata": {},
   "source": [
    "## Elementos de identidad:\n",
    "\n",
    "- a + 0 = a\n",
    "- a * 1 = a\n",
    "\n",
    "Es decir, si 0 se sua a ***a***, el resultado aún es a y si a se multiplica por 1, el resultado de nuevo es a.\n",
    "Por esta razón, los números 0 y 1 a menudo se conocen como **Elementos de identidad** para la adición y la multiplicación, respectivamente, porque no alteran número alguno bajo sus respectivas operaciones.\n",
    "\n",
    "### Inversos\n",
    "Si a es un número real arbitrario, entonces existe un único número real denomiado el **Negativo de a** (denotado por -a) tal que\n",
    "\n",
    "- a + (-a) = a\n",
    "\n",
    "Si a no es cero, entonces también existe un único número real denomidado el **recíproco de a** (denotado por a⁻¹) tal que\n",
    "\n",
    "- a * a⁻¹ = 1\n",
    "\n",
    "Observemos la similitud entre las dos definiciones: Cuando -a se suma a *a*, el resultado es el elemento de identidad para la adición y cuando a⁻¹ se multiplica por a, el resultado es el elemento identidad para la multiplicación. A menudo nos referimos a **-a** como el **inverso aditivo de a** y a *a⁻¹* como el **el inverso multiplicativo de a.** (Algunas veces sólo se le conoce cómo el inverso de *a*)"
   ]
  },
  {
   "cell_type": "code",
   "execution_count": 4,
   "metadata": {},
   "outputs": [
    {
     "name": "stdout",
     "output_type": "stream",
     "text": [
      "0\n",
      "3\n"
     ]
    }
   ],
   "source": [
    "# Ejemplo en código:\n",
    "'''\n",
    "El inverso aditivo de 3 es -3. Dado que 3 + (-3) = 0. El inverso aditivo de -3 es 3 puesto que (-3) + 3 = 0.\n",
    "Como el inverso aditivo de -3 se donota por -(-3), se sigue que -(-3) = 3. En realidad, un resultado correspondiente\n",
    "vale para cualquier número real a:\n",
    "'''\n",
    "\n",
    "a = 3\n",
    "a_inverso = -3\n",
    "\n",
    "inverso_aditivo_1 = a + a_inverso\n",
    "# Lo que sería 3 + (-3) = 0\n",
    "inverso_aditivo_2 = -a_inverso\n",
    "# Lo que sería -(-3) = 3\n",
    "print(inverso_aditivo_1)\n",
    "print(inverso_aditivo_2)"
   ]
  },
  {
   "attachments": {},
   "cell_type": "markdown",
   "metadata": {},
   "source": [
    "### Observación sobre la división entre cero.\n",
    "\n",
    "La afirmación a7b = c es cierta si y sólo si la proposición inversa a=b * c es válida. Consideremos una fracción en la cual el denomidar b es 0, tal como 3/0. Ésta no puede ser igual a ningún número real c porque la afirmación inversa 3=0*c no puede ser válida para ningún real c. Por tanto 3/0 no está bien definido. Asimismo, 0/0 no es un número real bien definido porque la proposición inversa es 0=0 * c \n",
    "Concluimos que cualquier fracción con denominador 0 no es un número real bien definido o, en forma equivalente, que **La división entre cero es una operación que carece de sentido** \n",
    "\n",
    "- Ejemplo:\n",
    "    - x/x = 1\n",
    "Esto es cierto si x es !=(diferente) 0\n",
    "\n"
   ]
  }
 ],
 "metadata": {
  "kernelspec": {
   "display_name": "base",
   "language": "python",
   "name": "python3"
  },
  "language_info": {
   "codemirror_mode": {
    "name": "ipython",
    "version": 3
   },
   "file_extension": ".py",
   "mimetype": "text/x-python",
   "name": "python",
   "nbconvert_exporter": "python",
   "pygments_lexer": "ipython3",
   "version": "3.9.13"
  },
  "orig_nbformat": 4
 },
 "nbformat": 4,
 "nbformat_minor": 2
}
