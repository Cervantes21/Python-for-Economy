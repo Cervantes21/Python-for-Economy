{
 "cells": [
  {
   "attachments": {},
   "cell_type": "markdown",
   "metadata": {},
   "source": [
    "# **Operaciones algebraicas**\n",
    "\n",
    "Cantidades del tipo ***2x² - 3x + 7, 5y³ - y² + 6y + 2 | 2x - 3/y + 4*** se denominan **expresiones algebraicas.** Los bloques de construcción de una expresión algebraica se llaman **términos**. Por ejemplo, la expresión **2x² - 3x + 7** tiene tres términos, ***2x², -3x*** y ***7***. La expresión **x²y/3 - y/x** tiene dos términos, **x²y/3** y **y/x**.\n",
    "\n",
    "En el término 2x², el factor 2 se denomina el **coeficiente numérico** (o simplemente ***coeficiente***).\n",
    "el factor ***x²*** se denomina la **parte literal** del término. en el término **-3x**, el **coeficiente** es **-3** y la parte literal *x*. En el término **x²y/3**, el coeficiente es 1/3 y la parte literal es **x²y**. El término **7** no tiene parte literal y se llama **término constante**. El coeficiente es 7.\n",
    "\n",
    "Una expresión algebraica que contiene un solo término se denomina **monomio**. Una expresión que contiene exactamente dos término se llama **binomio** y la que contiene precisamente tres término se denomina **trinomio**. Los siguientes son unos ejemplos de estos.\n",
    "\n",
    "- Ejemplos:\n",
    "\n",
    "    - ***Monomios***: 2x³, -5y², 7/ƭ, 3, 2xy/ȥ \n",
    "\n",
    "    Cada uno es un solo término separados por coma. Digamos que es un sólo número. Pero en expresión\n",
    "\n",
    "    - ***Binomios***: 2x+3, 3x² - 5/y, 6x²y - 5ȥƭ\n",
    "\n",
    "    Si enlazaramos estás expresiones en paréntesis, nos daríamos cuenta que serían 2 números, o dos expresiones de dos números. **Ejemplo ((6x²y) - (5ȥƭ)) Entonces lo que tenemos en el paréntesis exterior es nuestro conjunto, y adentro tenemos dos expresiones.\n",
    "\n",
    "    - ***Trinomios***: (5x² + 7x - 1), (2x³ + 4x - 3/x), (6y² - 5x + ƭ)\n",
    "\n",
    "    En general una expresión que contiene más de un término se denomina **Multinomio**\n"
   ]
  },
  {
   "attachments": {},
   "cell_type": "markdown",
   "metadata": {},
   "source": [
    "## **Multiplicación de expresiones**\n",
    "\n",
    "La expresión ***a(x + y)*** denota el producto de *a* y *x* + *y*. Para simplificar esta expresión suprimiendo los paréntesis, multiplicamos cada término dentro del paréntesis por el número que está afuera, en este caso ***a**:\n",
    "\n",
    "```\n",
    "a(x + y) = ax + ay\n",
    "```\n",
    "Esto es simplemente por la [propiedad distributiva](/home/andydollin21/Documentos/matematicas_aplicadas_a_la_economia/PARTE01_ALGEBRA/01-ALGEBRA/01__Numeros_reales/Numeros-Reales.ipynb##Propiedades-distributivas). De manera similar, este método funciona siempre que una expresión algebraica se multiplique por cualquier **monomio**\n",
    "\n",
    "- Ejemplo:\n",
    "    - a) -2(x - 3y + 7ƭ²) = (-2)x - (-2)x - (-2)·(3y) + (-2)·(7ƭ²)\n",
    "        = -2x + 6y - 14ƭ²\n"
   ]
  },
  {
   "cell_type": "code",
   "execution_count": null,
   "metadata": {},
   "outputs": [],
   "source": []
  }
 ],
 "metadata": {
  "kernelspec": {
   "display_name": "base",
   "language": "python",
   "name": "python3"
  },
  "language_info": {
   "name": "python",
   "version": "3.9.13"
  },
  "orig_nbformat": 4
 },
 "nbformat": 4,
 "nbformat_minor": 2
}
