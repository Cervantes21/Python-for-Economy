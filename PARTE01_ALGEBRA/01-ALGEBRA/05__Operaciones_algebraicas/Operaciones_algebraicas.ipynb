{
 "cells": [
  {
   "attachments": {},
   "cell_type": "markdown",
   "metadata": {},
   "source": [
    "# **Operaciones algebraicas**\n",
    "\n",
    "Cantidades del tipo ***2x² - 3x + 7, 5y³ - y² + 6y + 2 | 2x - 3/y + 4*** se denominan **expresiones algebraicas.** Los bloques de construcción de una expresión algebraica se llaman **términos**. Por ejemplo, la expresión **2x² - 3x + 7** tiene tres términos, ***2x², -3x*** y ***7***. La expresión **x²y/3 - y/x** tiene dos términos, **x²y/3** y **y/x**.\n",
    "\n",
    "En el término 2x², el factor 2 se denomina el **coeficiente numérico** (o simplemente ***coeficiente***).\n",
    "el factor ***x²*** se denomina la **parte literal** del término. en el término **-3x**, el **coeficiente** es **-3** y la parte literal *x*. En el término **x²y/3**, el coeficiente es 1/3 y la parte literal es **x²y**. El término **7** no tiene parte literal y se llama **término constante**. El coeficiente es 7.\n",
    "\n",
    "Una expresión algebraica que contiene un solo término se denomina **monomio**. Una expresión que contiene exactamente dos término se llama **binomio** y la que contiene precisamente tres término se denomina **trinomio**. Los siguientes son unos ejemplos de estos.\n",
    "\n",
    "- Ejemplos:\n",
    "\n",
    "    - ***Monomios***: 2x³, -5y², 7/ƭ, 3, 2xy/ȥ \n",
    "\n",
    "    Cada uno es un solo término separados por coma. Digamos que es un sólo número. Pero en expresión\n",
    "\n",
    "    - ***Binomios***: 2x+3, 3x² - 5/y, 6x²y - 5ȥƭ\n",
    "\n",
    "    Si enlazaramos estás expresiones en paréntesis, nos daríamos cuenta que serían 2 números, o dos expresiones de dos números. **Ejemplo ((6x²y) - (5ȥƭ)) Entonces lo que tenemos en el paréntesis exterior es nuestro conjunto, y adentro tenemos dos expresiones.\n",
    "\n",
    "    - ***Trinomios***: (5x² + 7x - 1), (2x³ + 4x - 3/x), (6y² - 5x + ƭ)\n",
    "\n",
    "    En general una expresión que contiene más de un término se denomina **Multinomio**\n"
   ]
  },
  {
   "attachments": {},
   "cell_type": "markdown",
   "metadata": {},
   "source": [
    "## **Multiplicación de expresiones**\n",
    "\n",
    "La expresión ***a(x + y)*** denota el producto de *a* y *x* + *y*. Para simplificar esta expresión suprimiendo los paréntesis, multiplicamos cada término dentro del paréntesis por el número que está afuera, en este caso ***a**:\n",
    "\n",
    "```\n",
    "a(x + y) = ax + ay\n",
    "```\n",
    "Esto es simplemente por la [propiedad distributiva](/home/andydollin21/Documentos/matematicas_aplicadas_a_la_economia/PARTE01_ALGEBRA/01-ALGEBRA/01__Numeros_reales/Numeros-Reales.ipynb##Propiedades-distributivas). De manera similar, este método funciona siempre que una expresión algebraica se multiplique por cualquier **monomio**\n",
    "\n",
    "- Ejemplo:\n",
    "    - **a)** -2(x - 3y + 7ƭ²) = (-2)x - (-2)x - (-2)·(3y) + (-2)·(7ƭ²)\n",
    "    \n",
    "                       = -2x + 6y - 14ƭ²\n",
    "\n",
    "    - **b)** x²y(x² + 3x - 5y³) = x²y · x² + x²y · 3x - x²y · 5y³\n",
    "\n",
    "                         = x⁴y + 3x³y - 5x²y⁴\n",
    "\n",
    "---\n",
    "\n",
    "Cuando multiplicamos dos expresiones algebraicas a la vez, la propiedad distributiva puede usarse más de una vez con la finalidad de suprimir los paréntesis. Consideremos el producto **(x+2)(y+3)**. Podemos emplear la propiedad distributiva para quitar los primeros paréntesis.\n",
    "\n",
    "- (x + 2)(y+3) = x(y + 3) + 2(y + 3)\n",
    "\n",
    "Para ver esto, sólo hagamos **y + 3 = b**. Entonces:\n",
    "\n",
    "- (x + 2)(y+ 3) = (x + 2)b = x · b + 2 · b = x(y+3) + 2(y+3)\n",
    "\n",
    "En general, las propiedades distributivas, funcionan con a, b, c. Reemplazadas por cualquier expresión (como se hace con las otras propiedades de los números reales). Ahora usamos de nuevo esta propiedad para suprimir los paréntesis restantes.\n",
    "\n",
    "- x(y+3) = xy + x · 3 = xy + 3x\n",
    "\n",
    "y así mismo:\n",
    "\n",
    "- 2(y+3) = 2y + 2 · 3 = 2y + 6\n",
    "\n",
    "Por lo tanto, **(x + 2)(y + 3) = xy + 3x + 2y + 6**"
   ]
  },
  {
   "cell_type": "code",
   "execution_count": null,
   "metadata": {},
   "outputs": [],
   "source": []
  }
 ],
 "metadata": {
  "kernelspec": {
   "display_name": "base",
   "language": "python",
   "name": "python3"
  },
  "language_info": {
   "name": "python",
   "version": "3.9.13"
  },
  "orig_nbformat": 4
 },
 "nbformat": 4,
 "nbformat_minor": 2
}
