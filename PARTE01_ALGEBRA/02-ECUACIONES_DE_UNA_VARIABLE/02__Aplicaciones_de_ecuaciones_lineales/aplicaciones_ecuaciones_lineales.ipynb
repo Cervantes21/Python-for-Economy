{
 "cells": [
  {
   "attachments": {},
   "cell_type": "markdown",
   "metadata": {},
   "source": [
    "# **Aplicaciones de ecuaciones lineales**\n",
    "\n",
    "Los métodos algebraicos a menudo son útiles en la solución de problemas aplicados en diversos campos.\n",
    "En general, tales problemas se establecen en forma verbal; antes de que podamos utilizar nuestras herramientas algebraicas, es necesario cambiar las declaraciones verbales a proposiciones algebraicas correspondientes. el siguiente procedimiento por etapas con frecuencia es útil en la aplicación de este proceso:\n",
    "\n",
    "---\n",
    "\n",
    "- **Paso 1**: Represente la cantidad desconocida (es decir, la cantidad que debe determinarse) mediante un símbolo algebraico, tal como ***x***. En algunos problemas, deben determinarse dos, o más cantidades; en tales casos, denotamos sólo una de ellas con x.\n",
    "\n",
    "- **Paso 2**: Exprese todas las demás cantidades, si las hay, en términos de ***x***.\n",
    "\n",
    "- **Paso 3**: Traduzca las expresiones verbales que aparezcan en el problema en expresiones algebraicas en las cuales intervenga ***x***. En este contexto, palabras tales como ***es*** o ***era*** se traducen al símbolo algebraico =.\n",
    "\n",
    "- **Paso 4**: Resuleva la expresión o expresiones algebraicas de acuerdo con los métodos algebraicos.\n",
    "\n",
    "- **Paso 5**: Transforme la solución algebraica en forma verbal.\n",
    "\n",
    "---\n",
    "\n",
    "En problemas verbales, aparecen un número de declaraciones que incluyen frases tales como alguna cantidad mayor que o menor que cierto valor multiplicado, digamos dos veces o por la mitad de otra mitad. Los ejemplos siguientes ilustran cómo cambiar tales expresiones a términos algebraicos."
   ]
  },
  {
   "attachments": {},
   "cell_type": "markdown",
   "metadata": {},
   "source": [
    "## **Ejemplo 1:**\n",
    "\n",
    "- a) Si Pedro tiene ***x* pesos** y Jaime 5 más que Juan, entonces Jaime tiene **(x+5) pesos**. Si Samuel tiene 3 menos que Juan entonces Samuel tiene **(x-3) pesos.**\n",
    "\n",
    "- b) Si Luis tiene una edad de ***x*** años y su padre tiene 4 años más que el doble de la edad de Luis, entonces su padre tiene **(2x + 4) años**\n",
    "\n",
    "- c) Si cierto almacén vende ***x* refrigeradores** al mes y un segundo almacén vende 5 menos que una tercera parte del anterior, entonces el segundo almacén vende **(1/3x - 5) Refrigeradores** \n"
   ]
  },
  {
   "attachments": {},
   "cell_type": "markdown",
   "metadata": {},
   "source": [
    "## **Ejemplo 2:**\n",
    "\n",
    "Determinemos dos enteros consecutivos cuya suma sea 19.\n",
    "\n"
   ]
  },
  {
   "cell_type": "code",
   "execution_count": 26,
   "metadata": {},
   "outputs": [
    {
     "name": "stdout",
     "output_type": "stream",
     "text": [
      "\n",
      "              Ahora X es igual a: 18,\n",
      "\n",
      "              Pero lo dividimos entre dos, por tener dos variables: 9\n",
      "\n",
      "              sólo que a una se le agrega uno más por ser consecutivo.\n",
      "\n",
      "              En este caso sería x+1 = 10\n"
     ]
    }
   ],
   "source": [
    "# Nuestra ecuación: x + (x + 1) = 19\n",
    "\n",
    "x = 0\n",
    "y = x+1\n",
    "\n",
    "for x in range(1,19):\n",
    "    if x+y == 19:\n",
    "        print(f'''\n",
    "              Ahora X es igual a: {x},\\n\n",
    "              Pero lo dividimos entre dos, por tener dos variables: {x//2}\\n\n",
    "              sólo que a una se le agrega uno más por ser consecutivo.\\n\n",
    "              En este caso sería x+1 = {x//2+1}''')\n"
   ]
  },
  {
   "attachments": {},
   "cell_type": "markdown",
   "metadata": {},
   "source": [
    "## **Explicación y solución**:\n",
    "\n",
    "Usaremos nuestro procedimiento para entender la solución:\n",
    "\n",
    "- **Paso 1**: Dado que debemos encontrar dos enteros, debemos decidir a cuál de ellos llamar ***x***. Denotemos con ***x*** al entero más pequeño.\n",
    "\n",
    "- **Paso 2**: Luego, el segundo entero es ***x* + 1**, pues son consecutivos.\n",
    "\n",
    "- **Paso 3**: La expresión *suma de dos enteros* se cambia a la expresión algebraica **x + (x+1)**. La afirmación de que esta suma es 19, equivale a la ecuación:\n",
    "\n",
    "**x + (x+1) = 19**\n",
    "\n",
    "- **Paso 4**: Despejamos *x*\n",
    "\n",
    "  - **2x + 1 = 19**\n",
    "\n",
    "  - **2x = 19 - 1 = 18**\n",
    "      \n",
    "  - **x = 18/2 = 9**\n",
    "\n",
    "### **Paso 5**: \n",
    "Por lo tanto, el entero más pequeño es 9. \n",
    "\n",
    "Y el mayor es **x+1**, es 10\n"
   ]
  },
  {
   "cell_type": "code",
   "execution_count": null,
   "metadata": {},
   "outputs": [],
   "source": []
  }
 ],
 "metadata": {
  "kernelspec": {
   "display_name": "base",
   "language": "python",
   "name": "python3"
  },
  "language_info": {
   "codemirror_mode": {
    "name": "ipython",
    "version": 3
   },
   "file_extension": ".py",
   "mimetype": "text/x-python",
   "name": "python",
   "nbconvert_exporter": "python",
   "pygments_lexer": "ipython3",
   "version": "3.9.13"
  },
  "orig_nbformat": 4
 },
 "nbformat": 4,
 "nbformat_minor": 2
}
