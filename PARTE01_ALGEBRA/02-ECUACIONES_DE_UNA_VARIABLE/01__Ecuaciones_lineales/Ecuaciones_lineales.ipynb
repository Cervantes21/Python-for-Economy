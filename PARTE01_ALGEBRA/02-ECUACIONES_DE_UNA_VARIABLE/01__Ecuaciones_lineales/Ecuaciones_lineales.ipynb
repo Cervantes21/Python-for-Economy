{
 "cells": [
  {
   "attachments": {},
   "cell_type": "markdown",
   "metadata": {},
   "source": [
    "# **Ecuaciones Lineales**\n",
    "\n",
    "Una **ecuación** es una proposición que expresa la igualdad de dos expresiones algebraicas. Por lo regular involucra una o más variables y el símbolo de igualdad, =. Las siguientes proposiciones son ejemplos de ecuaciones.\n",
    "\n",
    "1. ***2x - 3 = 9 - x***\n",
    "2. ***y² - 5y = 6 - 4y***\n",
    "3. ***2x + y = 7***\n",
    "4. ***a/1-r = s***\n",
    "\n",
    "En la ecuación (1), la variable es la letra *x*; mientras que en la ecuación (2), es *y*. En la ecuación (3), tenemos dos variables *x* y *y*. No permitiremos que las variables de cualquier ecuación tomen valores que hagan que una expresión que ocurra en la ecuación quede indefinida. Por ejemplo, en la ecuación (4), *r* no puede ser 1 pues esto produciría una división entre cero.\n",
    "\n",
    "Las expresiones separadas por el símbolo de igualdad se denominan **lados** (miembros) de la ecuación; por separado se llaman *lado izquierdo* (primer miembro) *lado derecho* (segundo miembro).\n",
    "\n",
    "Las ecuaciones que sólo contienen constantes y no tienen variables pueden ser proposiciones verdaderas o falsas. Por ejemplo:\n",
    "\n",
    "**3 + 2 = 5** y **3/15 = 4/20**\n",
    "\n",
    "Son afirmaciones verdaderas; mientras que\n",
    "\n",
    "**2 + 5 = 6** y **3/2 = 2/3**\n",
    "\n",
    "Son proposiciones falsas.\n",
    "\n",
    "Una ecuación que se refiere a una variable, por lo regular es una proposición válida para algunos valores de la variable, en tanto que es falsa para otros valores de la variable. Por ejemplo, consideremos la ecuación\n",
    "\n",
    "***2x - 3 = x + 2***\n",
    "\n",
    "Si *x* toma el valor de 5, esta ecuación se reduce a:\n",
    "\n",
    "**2(5) - 3 = 5 + 2** o bien **10 - 3 = 5 + 2** \n",
    "\n",
    "que es una proposición verdadera. Por otra parte, si *x* toma el valor de 4, obtenemos:\n",
    "\n",
    "**2(4) - 3 = 4 + 2** o bien **5 = 6**\n",
    "\n",
    "que es una proposición falsa.\n",
    "\n",
    "Un valor de la variable que haga que la ecuación sea una proposición cierta se denomina **raíz** o **solución** de la ecuación dada. Decimos que tal valor de la variable *satisface* la ecuación."
   ]
  },
  {
   "cell_type": "code",
   "execution_count": 4,
   "metadata": {},
   "outputs": [
    {
     "data": {
      "text/plain": [
       "23"
      ]
     },
     "execution_count": 4,
     "metadata": {},
     "output_type": "execute_result"
    }
   ],
   "source": [
    "# un ejemplo sencillo sería cuando queremos un valor igual a 23 tomando nuestra variable x=4\n",
    "# Nuestra ecuación sería r = 23 = 4 + 19 = 23\n",
    "x = 4\n",
    "y = 19\n",
    "resultado = x+y\n",
    "# Este resultado sería la raíz porque satisface la ecuación\n",
    "\n",
    "resultado"
   ]
  },
  {
   "cell_type": "code",
   "execution_count": 6,
   "metadata": {},
   "outputs": [],
   "source": [
    "# Otro ejemplo\n",
    "\n",
    "# Ecuación: r = 9. Este ejemplo sencillo, denota las formas para llegar a la solución:\n",
    "x = 4\n",
    "y = 5\n",
    "raiz = x+y\n",
    "# Que sería r = 9 = 4 + 5 = 9"
   ]
  },
  {
   "cell_type": "code",
   "execution_count": 8,
   "metadata": {},
   "outputs": [
    {
     "data": {
      "text/plain": [
       "9"
      ]
     },
     "execution_count": 8,
     "metadata": {},
     "output_type": "execute_result"
    }
   ],
   "source": [
    "# r = 9 = 3 * 3 = 9\n",
    "x = 3\n",
    "y = 3\n",
    "raiz = x*y\n",
    "raiz"
   ]
  },
  {
   "cell_type": "code",
   "execution_count": 9,
   "metadata": {},
   "outputs": [
    {
     "data": {
      "text/plain": [
       "9"
      ]
     },
     "execution_count": 9,
     "metadata": {},
     "output_type": "execute_result"
    }
   ],
   "source": [
    "# r = 9 = 3²\n",
    "x = 3\n",
    "y = 2\n",
    "raiz = x**y\n",
    "raiz"
   ]
  },
  {
   "cell_type": "code",
   "execution_count": 12,
   "metadata": {},
   "outputs": [
    {
     "data": {
      "text/plain": [
       "9"
      ]
     },
     "execution_count": 12,
     "metadata": {},
     "output_type": "execute_result"
    }
   ],
   "source": [
    "# r = 9 = 2 + 2 + 3 + 1 + 1 = 9\n",
    "a = 2\n",
    "b = 2\n",
    "c = 3\n",
    "d = 1\n",
    "f = 1\n",
    "res = a+b+c+d+f\n",
    "res"
   ]
  },
  {
   "cell_type": "code",
   "execution_count": null,
   "metadata": {},
   "outputs": [],
   "source": []
  }
 ],
 "metadata": {
  "kernelspec": {
   "display_name": "base",
   "language": "python",
   "name": "python3"
  },
  "language_info": {
   "codemirror_mode": {
    "name": "ipython",
    "version": 3
   },
   "file_extension": ".py",
   "mimetype": "text/x-python",
   "name": "python",
   "nbconvert_exporter": "python",
   "pygments_lexer": "ipython3",
   "version": "3.9.13"
  },
  "orig_nbformat": 4,
  "vscode": {
   "interpreter": {
    "hash": "22dda84f40c9a96a29230e9b860ae414f3d9e6739d489f535d31d8b226c84df0"
   }
  }
 },
 "nbformat": 4,
 "nbformat_minor": 2
}
