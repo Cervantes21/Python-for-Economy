{
 "cells": [
  {
   "attachments": {},
   "cell_type": "markdown",
   "metadata": {},
   "source": [
    "# **Ecuaciones Lineales**\n",
    "\n",
    "Una **ecuación** es una proposición que expresa la igualdad de dos expresiones algebraicas. Por lo regular involucra una o más variables y el símbolo de igualdad, =. Las siguientes proposiciones son ejemplos de ecuaciones.\n",
    "\n",
    "1. ***2x - 3 = 9 - x***\n",
    "2. ***y² - 5y = 6 - 4y***\n",
    "3. ***2x + y = 7***\n",
    "4. ***a/1-r = s***\n",
    "\n",
    "En la ecuación (1), la variable es la letra *x*; mientras que en la ecuación (2), es *y*. En la ecuación (3), tenemos dos variables *x* y *y*. No permitiremos que las variables de cualquier ecuación tomen valores que hagan que una expresión que ocurra en la ecuación quede indefinida. Por ejemplo, en la ecuación (4), *r* no puede ser 1 pues esto produciría una división entre cero.\n",
    "\n",
    "Las expresiones separadas por el símbolo de igualdad se denominan **lados** (miembros) de la ecuación; por separado se llaman *lado izquierdo* (primer miembro) *lado derecho* (segundo miembro).\n",
    "\n",
    "Las ecuaciones que sólo contienen constantes y no tienen variables pueden ser proposiciones verdaderas o falsas. Por ejemplo:\n",
    "\n",
    "**3 + 2 = 5** y **3/15 = 4/20**\n",
    "\n",
    "Son afirmaciones verdaderas; mientras que\n",
    "\n",
    "**2 + 5 = 6** y **3/2 = 2/3**\n",
    "\n",
    "Son proposiciones falsas.\n",
    "\n",
    "Una ecuación que se refiere a una variable, por lo regular es una proposición válida para algunos valores de la variable, en tanto que es falsa para otros valores de la variable. Por ejemplo, consideremos la ecuación\n",
    "\n",
    "***2x - 3 = x + 2***\n",
    "\n",
    "Si *x* toma el valor de 5, esta ecuación se reduce a:\n",
    "\n",
    "**2(5) - 3 = 5 + 2** o bien **10 - 3 = 5 + 2** \n",
    "\n",
    "que es una proposición verdadera. Por otra parte, si *x* toma el valor de 4, obtenemos:\n",
    "\n",
    "**2(4) - 3 = 4 + 2** o bien **5 = 6**\n",
    "\n",
    "que es una proposición falsa.\n",
    "\n",
    "Un valor de la variable que haga que la ecuación sea una proposición cierta se denomina **raíz** o **solución** de la ecuación dada. Decimos que tal valor de la variable *satisface* la ecuación."
   ]
  },
  {
   "cell_type": "code",
   "execution_count": 4,
   "metadata": {},
   "outputs": [
    {
     "data": {
      "text/plain": [
       "23"
      ]
     },
     "execution_count": 4,
     "metadata": {},
     "output_type": "execute_result"
    }
   ],
   "source": [
    "# un ejemplo sencillo sería cuando queremos un valor igual a 23 tomando nuestra variable x=4\n",
    "# Nuestra ecuación sería r = 23 = 4 + 19 = 23\n",
    "x = 4\n",
    "y = 19\n",
    "resultado = x+y\n",
    "# Este resultado sería la raíz porque satisface la ecuación\n",
    "\n",
    "resultado"
   ]
  },
  {
   "cell_type": "code",
   "execution_count": 6,
   "metadata": {},
   "outputs": [],
   "source": [
    "# Otro ejemplo\n",
    "\n",
    "# Ecuación: r = 9. Este ejemplo sencillo, denota las formas para llegar a la solución:\n",
    "x = 4\n",
    "y = 5\n",
    "raiz = x+y\n",
    "# Que sería r = 9 = 4 + 5 = 9"
   ]
  },
  {
   "cell_type": "code",
   "execution_count": 8,
   "metadata": {},
   "outputs": [
    {
     "data": {
      "text/plain": [
       "9"
      ]
     },
     "execution_count": 8,
     "metadata": {},
     "output_type": "execute_result"
    }
   ],
   "source": [
    "# r = 9 = 3 * 3 = 9\n",
    "x = 3\n",
    "y = 3\n",
    "raiz = x*y\n",
    "raiz"
   ]
  },
  {
   "cell_type": "code",
   "execution_count": 9,
   "metadata": {},
   "outputs": [
    {
     "data": {
      "text/plain": [
       "9"
      ]
     },
     "execution_count": 9,
     "metadata": {},
     "output_type": "execute_result"
    }
   ],
   "source": [
    "# r = 9 = 3²\n",
    "x = 3\n",
    "y = 2\n",
    "raiz = x**y\n",
    "raiz"
   ]
  },
  {
   "cell_type": "code",
   "execution_count": 12,
   "metadata": {},
   "outputs": [
    {
     "data": {
      "text/plain": [
       "9"
      ]
     },
     "execution_count": 12,
     "metadata": {},
     "output_type": "execute_result"
    }
   ],
   "source": [
    "# r = 9 = 2 + 2 + 3 + 1 + 1 = 9\n",
    "a = 2\n",
    "b = 2\n",
    "c = 3\n",
    "d = 1\n",
    "f = 1\n",
    "res = a+b+c+d+f\n",
    "res"
   ]
  },
  {
   "attachments": {},
   "cell_type": "markdown",
   "metadata": {},
   "source": [
    "1. **PRINCIPIO DE ADICIÓN** Podemos sumar o restar cualquier constante o cualquier expresión algebraica que incluya la variable a ambos lados de la ecuación.\n",
    "\n",
    "2. **PRINCIPIO DE MULTIPLICACIÓN** Podemos multiplicar o dividir ambos lados de la ecuación por cualquier constante *distinta de cero* o cualquier expresión *no cero* que incluya la variable.\n",
    "\n",
    "---\n",
    "\n",
    "**Observación**: La multiplicación por una expresión puede producir una ecuación cuyas raíces difieran de la ecuación original, si la expresión se hace cero para ciertos valores de la variable, como se ilustra a continuación:\n",
    "\n",
    "Observemos que de acuerdo con estos principios, debemos hacer la misma operación en ambos lados de la ecuación.\n",
    "\n",
    "Por ejemplo, si consideramos la ecuación:\n",
    "\n",
    "*x - 3 = 2*\n",
    "\n",
    "Sumemos 3 a ambos lados de la ecuación. Por el principio de adición, esta operación no cambia las raíces de la ecuación.\n",
    "\n",
    "*x - 3 + 3 = 2 + 3*\n",
    "\n",
    "Después de simplificar, nos quedaríamos con:\n",
    "\n",
    "**x = 5**\n",
    "\n"
   ]
  },
  {
   "cell_type": "code",
   "execution_count": 6,
   "metadata": {},
   "outputs": [
    {
     "name": "stdout",
     "output_type": "stream",
     "text": [
      "El resultado de nuestra adición es: 5.\n",
      "Como vemos, es lo mismo que nuestro resultado del otro lado de la ecuación: 5 \n"
     ]
    }
   ],
   "source": [
    "# Vamos que sino me crees:\n",
    "\n",
    "variable_x = 5 # Esta es nuestra variable dependiente, \n",
    "# porque tiene que ser la raíz y satisfacer la ecuación.\n",
    "\n",
    "ecuacion = variable_x - 3 # La ecuación principal. x - 3 = 2\n",
    "\n",
    "variable_y = 3 # Nuestra variable independiente para cumplir el principio de adición.\n",
    "\n",
    "adicion = ecuacion + variable_y\n",
    "resultado = ecuacion + 3\n",
    "\n",
    "print(f'El resultado de nuestra adición es: {adicion}.\\nComo vemos, es lo mismo que nuestro resultado del otro lado de la ecuación: {resultado} ')"
   ]
  },
  {
   "attachments": {},
   "cell_type": "markdown",
   "metadata": {},
   "source": [
    "Por lo tanto, concluimos que si *x* satisface la ecuación (5) entonces **x = 5:5** es la única raíz de la ecuación (5)"
   ]
  },
  {
   "attachments": {},
   "cell_type": "markdown",
   "metadata": {},
   "source": [
    "Como un segundo ejemplo, consideremos la ecuación:\n",
    "\n",
    "**5x = 15**\n",
    "\n",
    "Dividimos ambos lados de la ecuación entre 5. Por el principio de multiplicación, esta operación no cambiará las raíces de la ecuación dado que el número por el que estamos dividiendo no es cero. Obtenemos\n",
    "\n",
    "**5x/5 = 15/5**\n",
    "\n",
    "Simplificando quedaría:\n",
    "\n",
    "***x = 3***\n",
    "\n",
    "Así, la única solución de la ecuaicón es **x = 3**\n",
    "\n"
   ]
  },
  {
   "cell_type": "code",
   "execution_count": null,
   "metadata": {},
   "outputs": [],
   "source": [
    "# Resuelve:\n",
    "\n",
    "# 5x - 3 = 2x + 9"
   ]
  }
 ],
 "metadata": {
  "kernelspec": {
   "display_name": "base",
   "language": "python",
   "name": "python3"
  },
  "language_info": {
   "codemirror_mode": {
    "name": "ipython",
    "version": 3
   },
   "file_extension": ".py",
   "mimetype": "text/x-python",
   "name": "python",
   "nbconvert_exporter": "python",
   "pygments_lexer": "ipython3",
   "version": "3.9.13"
  },
  "orig_nbformat": 4,
  "vscode": {
   "interpreter": {
    "hash": "22dda84f40c9a96a29230e9b860ae414f3d9e6739d489f535d31d8b226c84df0"
   }
  }
 },
 "nbformat": 4,
 "nbformat_minor": 2
}
