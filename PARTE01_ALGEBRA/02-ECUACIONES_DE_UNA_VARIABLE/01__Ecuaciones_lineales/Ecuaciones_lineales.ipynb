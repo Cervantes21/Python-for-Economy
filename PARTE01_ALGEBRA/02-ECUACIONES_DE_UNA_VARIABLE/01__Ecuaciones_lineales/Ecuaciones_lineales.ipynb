{
 "cells": [
  {
   "attachments": {},
   "cell_type": "markdown",
   "metadata": {},
   "source": [
    "# **Ecuaciones Lineales**\n",
    "\n",
    "Una **ecuación** es una proposición que expresa la igualdad de dos expresiones algebraicas. Por lo regular involucra una o más variables y el símbolo de igualdad, =. Las siguientes proposiciones son ejemplos de ecuaciones.\n",
    "\n",
    "1. ***2x - 3 = 9 - x***\n",
    "2. ***y² - 5y = 6 - 4y***\n",
    "3. ***2x + y = 7***\n",
    "4. ***a/1-r = s***\n",
    "\n",
    "En la ecuación (1), la variable es la letra *x*; mientras que en la ecuación (2), es *y*. En la ecuación (3), tenemos dos variables *x* y *y*. No permitiremos que las variables de cualquier ecuación tomen valores que hagan que una expresión que ocurra en la ecuación quede indefinida. Por ejemplo, en la ecuación (4), *r* no puede ser 1 pues esto produciría una división entre cero.\n",
    "\n",
    "Las expresiones separadas por el símbolo de igualdad se denominan **lados** (miembros) de la ecuación; por separado se llaman *lado izquierdo* (primer miembro) *lado derecho* (segundo miembro).\n",
    "\n",
    "Las ecuaciones que sólo contienen constantes y no tienen variables pueden ser proposiciones verdaderas o falsas. Por ejemplo:\n",
    "\n",
    "**3 + 2 = 5** y **3/15 = 4/20**\n",
    "\n",
    "Son afirmaciones verdaderas; mientras que\n",
    "\n",
    "**2 + 5 = 6** y **3/2 = 2/3**\n",
    "\n",
    "Son proposiciones falsas.\n",
    "\n",
    "Una ecuación que se refiere a una variable, por lo regular es una proposición válida para algunos valores de la variable, en tanto que es falsa para otros valores de la variable. Por ejemplo, consideremos la ecuación\n",
    "\n",
    "***2x - 3 = x + 2***\n",
    "\n",
    "Si *x* toma el valor de 5, esta ecuación se reduce a:\n",
    "\n",
    "**2(5) - 3 = 5 + 2** o bien **10 - 3 = 5 + 2** \n",
    "\n",
    "que es una proposición verdadera. Por otra parte, si *x* toma el valor de 4, obtenemos:\n",
    "\n",
    "**2(4) - 3 = 4 + 2** o bien **5 = 6**\n",
    "\n",
    "que es una proposición falsa.\n",
    "\n",
    "Un valor de la variable que haga que la ecuación sea una proposición cierta se denomina **raíz** o **solución** de la ecuación dada. Decimos que tal valor de la variable *satisface* la ecuación."
   ]
  },
  {
   "cell_type": "code",
   "execution_count": null,
   "metadata": {},
   "outputs": [],
   "source": []
  }
 ],
 "metadata": {
  "language_info": {
   "name": "python"
  },
  "orig_nbformat": 4
 },
 "nbformat": 4,
 "nbformat_minor": 2
}
